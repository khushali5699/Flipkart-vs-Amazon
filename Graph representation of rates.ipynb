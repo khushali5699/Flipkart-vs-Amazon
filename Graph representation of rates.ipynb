{
 "cells": [
  {
   "cell_type": "code",
   "execution_count": 95,
   "metadata": {},
   "outputs": [],
   "source": [
    "import pandas as pd\n",
    "import numpy as np"
   ]
  },
  {
   "cell_type": "code",
   "execution_count": 96,
   "metadata": {},
   "outputs": [],
   "source": [
    "import matplotlib.pyplot as plt\n",
    "import seaborn as sns\n",
    "\n",
    "sns.set_style(\"whitegrid\")"
   ]
  },
  {
   "cell_type": "markdown",
   "metadata": {},
   "source": [
    "### IMPORTING COMBINE FILE"
   ]
  },
  {
   "cell_type": "code",
   "execution_count": 97,
   "metadata": {},
   "outputs": [
    {
     "data": {
      "text/html": [
       "<div>\n",
       "<style scoped>\n",
       "    .dataframe tbody tr th:only-of-type {\n",
       "        vertical-align: middle;\n",
       "    }\n",
       "\n",
       "    .dataframe tbody tr th {\n",
       "        vertical-align: top;\n",
       "    }\n",
       "\n",
       "    .dataframe thead th {\n",
       "        text-align: right;\n",
       "    }\n",
       "</style>\n",
       "<table border=\"1\" class=\"dataframe\">\n",
       "  <thead>\n",
       "    <tr style=\"text-align: right;\">\n",
       "      <th></th>\n",
       "      <th>Product_Name</th>\n",
       "      <th>Amazon_rate</th>\n",
       "      <th>FlipCartRate</th>\n",
       "      <th>price_diff</th>\n",
       "      <th>price_diff_perc</th>\n",
       "    </tr>\n",
       "  </thead>\n",
       "  <tbody>\n",
       "    <tr>\n",
       "      <td>0</td>\n",
       "      <td>Apple iPhone XR</td>\n",
       "      <td>64900</td>\n",
       "      <td>49900</td>\n",
       "      <td>-15000</td>\n",
       "      <td>-30.060120</td>\n",
       "    </tr>\n",
       "    <tr>\n",
       "      <td>1</td>\n",
       "      <td>Apple iPhone XR</td>\n",
       "      <td>64900</td>\n",
       "      <td>57490</td>\n",
       "      <td>-7410</td>\n",
       "      <td>-12.889198</td>\n",
       "    </tr>\n",
       "    <tr>\n",
       "      <td>2</td>\n",
       "      <td>Comio C1 Pro</td>\n",
       "      <td>3490</td>\n",
       "      <td>3990</td>\n",
       "      <td>500</td>\n",
       "      <td>12.531328</td>\n",
       "    </tr>\n",
       "    <tr>\n",
       "      <td>3</td>\n",
       "      <td>Coolpad Cool 3</td>\n",
       "      <td>5420</td>\n",
       "      <td>5749</td>\n",
       "      <td>329</td>\n",
       "      <td>5.722734</td>\n",
       "    </tr>\n",
       "    <tr>\n",
       "      <td>4</td>\n",
       "      <td>Coolpad Cool 3</td>\n",
       "      <td>5420</td>\n",
       "      <td>7398</td>\n",
       "      <td>1978</td>\n",
       "      <td>26.736956</td>\n",
       "    </tr>\n",
       "  </tbody>\n",
       "</table>\n",
       "</div>"
      ],
      "text/plain": [
       "       Product_Name  Amazon_rate  FlipCartRate  price_diff  price_diff_perc\n",
       "0  Apple iPhone XR         64900         49900      -15000       -30.060120\n",
       "1  Apple iPhone XR         64900         57490       -7410       -12.889198\n",
       "2     Comio C1 Pro          3490          3990         500        12.531328\n",
       "3   Coolpad Cool 3          5420          5749         329         5.722734\n",
       "4   Coolpad Cool 3          5420          7398        1978        26.736956"
      ]
     },
     "execution_count": 97,
     "metadata": {},
     "output_type": "execute_result"
    }
   ],
   "source": [
    "dataset = pd.read_csv('C:\\\\Users\\\\npate\\\\Documents\\\\idp\\\\Web_scraping of Flipkart mobiles\\\\harshita2.csv')\n",
    "dataset.head()"
   ]
  },
  {
   "cell_type": "code",
   "execution_count": 98,
   "metadata": {},
   "outputs": [],
   "source": [
    "max_price = []\n",
    "min_price = []\n",
    "l = list()\n",
    "for i, row in dataset.iterrows():\n",
    "    if row['FlipCartRate'] < row['Amazon_rate']:\n",
    "        max_price.append(row['Amazon_rate'])\n",
    "        min_price.append(row['FlipCartRate'])\n",
    "    else:\n",
    "        max_price.append(row['FlipCartRate'])\n",
    "        min_price.append(row['Amazon_rate'])"
   ]
  },
  {
   "cell_type": "code",
   "execution_count": 99,
   "metadata": {},
   "outputs": [
    {
     "name": "stdout",
     "output_type": "stream",
     "text": [
      "\n",
      "If you only bought mobiles from Flipkart: 6025645\n",
      "\n",
      "If you only bought mobiles from Amazon: 5650645\n"
     ]
    }
   ],
   "source": [
    "print()\n",
    "print(\"If you only bought mobiles from Flipkart: {}\".format(dataset['FlipCartRate'].sum()))\n",
    "\n",
    "print()\n",
    "print(\"If you only bought mobiles from Amazon: {}\".format(dataset['Amazon_rate'].sum()))"
   ]
  },
  {
   "cell_type": "markdown",
   "metadata": {},
   "source": [
    "### max and min price with probability density"
   ]
  },
  {
   "cell_type": "code",
   "execution_count": 100,
   "metadata": {},
   "outputs": [
    {
     "data": {
      "text/plain": [
       "<matplotlib.axes._subplots.AxesSubplot at 0x23846aebb48>"
      ]
     },
     "execution_count": 100,
     "metadata": {},
     "output_type": "execute_result"
    },
    {
     "data": {
      "image/png": "[encoded data removed]",
      "text/plain": [
       "<Figure size 720x432 with 1 Axes>"
      ]
     },
     "metadata": {},
     "output_type": "display_data"
    }
   ],
   "source": [
    "plt.figure(figsize=(10, 6))\n",
    "sns.kdeplot(max_price, color='red')\n",
    "sns.kdeplot(min_price, color='green')"
   ]
  },
  {
   "cell_type": "code",
   "execution_count": 101,
   "metadata": {},
   "outputs": [
    {
     "name": "stdout",
     "output_type": "stream",
     "text": [
      "Price Worst Case Scenario: 6309562\n",
      "Price Best Case Scenario: 5366728\n",
      "\n",
      "Difference: 942834\n",
      "Percentage difference: 14.94%\n"
     ]
    }
   ],
   "source": [
    "print(\"Price Worst Case Scenario: {}\".format(sum(max_price)))\n",
    "print(\"Price Best Case Scenario: {}\".format(sum(min_price)))\n",
    "\n",
    "print()\n",
    "diff = sum(max_price) - sum(min_price)\n",
    "print(\"Difference: {}\".format(diff))\n",
    "print(\"Percentage difference: {0:.2f}%\".format(diff/sum(max_price)*100))"
   ]
  },
  {
   "cell_type": "markdown",
   "metadata": {},
   "source": [
    "### Price Difference Plots"
   ]
  },
  {
   "cell_type": "code",
   "execution_count": 102,
   "metadata": {},
   "outputs": [
    {
     "data": {
      "text/plain": [
       "Text(0.5, 0, 'Price Difference (Percentage)')"
      ]
     },
     "execution_count": 102,
     "metadata": {},
     "output_type": "execute_result"
    },
    {
     "data": {
      "image/png": "[encoded data removed]",
      "text/plain": [
       "<Figure size 720x432 with 1 Axes>"
      ]
     },
     "metadata": {},
     "output_type": "display_data"
    }
   ],
   "source": [
    "plt.figure(figsize=(10, 6))\n",
    "sns.distplot(abs(dataset['price_diff_perc']), kde=False, color='green', bins=100)\n",
    "plt.xlabel('Price Difference (Percentage)')"
   ]
  },
  {
   "cell_type": "code",
   "execution_count": 103,
   "metadata": {},
   "outputs": [
    {
     "name": "stdout",
     "output_type": "stream",
     "text": [
      "Percentage of mobiles which are priced the same: 6.76%\n",
      "\n",
      "Percentage of mobiles with price difference: 92.34%\n",
      "\n",
      "Better pricing on Flipkart: 38.74%\n",
      "\n",
      "Better pricing on Amazon: 54.50%\n"
     ]
    }
   ],
   "source": [
    "no_diff = dataset[dataset['price_diff'] == 0].count()[0]/dataset.shape[0]\n",
    "print('Percentage of mobiles which are priced the same: {0:.2f}%'.format(no_diff*100))\n",
    "\n",
    "print()\n",
    "no_diff = dataset[(abs(dataset['price_diff_perc']) > 0) & (abs(dataset['price_diff_perc']) < 100)].count()[0]/dataset.shape[0]\n",
    "print('Percentage of mobiles with price difference: {0:.2f}%'.format(no_diff*100))\n",
    "\n",
    "print()\n",
    "no_diff = dataset[dataset['price_diff_perc'] < 0].count()[0]/dataset.shape[0]\n",
    "print('Better pricing on Flipkart: {0:.2f}%'.format(no_diff*100))\n",
    "\n",
    "print()\n",
    "no_diff = dataset[dataset['price_diff_perc'] > 0].count()[0]/dataset.shape[0]\n",
    "print('Better pricing on Amazon: {0:.2f}%'.format(no_diff*100))"
   ]
  },
  {
   "cell_type": "code",
   "execution_count": 104,
   "metadata": {},
   "outputs": [
    {
     "name": "stdout",
     "output_type": "stream",
     "text": [
      "Only Flipkart: 12.28%\n",
      "\n",
      "Only Amazon: 5.29%\n"
     ]
    }
   ],
   "source": [
    "print(\"Only Flipkart: {0:.2f}%\".format((100*(dataset.FlipCartRate.sum() - sum(min_price))/sum(min_price))))\n",
    "print()\n",
    "print(\"Only Amazon: {0:.2f}%\".format((100*(dataset.Amazon_rate.sum() - sum(min_price))/sum(min_price))))"
   ]
  },
  {
   "cell_type": "markdown",
   "metadata": {},
   "source": [
    "### Histogram of price difference percentage"
   ]
  },
  {
   "cell_type": "code",
   "execution_count": null,
   "metadata": {},
   "outputs": [],
   "source": [
    "plt.figure(figsize=(10, 6))\n",
    "sns.distplot(dataset['price_diff_perc'], kde=False, color='green')\n",
    "plt.xlabel('Price Difference (Percentage)')\n",
    "plt.ylabel('Number of mobiles')"
   ]
  },
  {
   "cell_type": "markdown",
   "metadata": {},
   "source": [
    "### Mobile phone less than 35000 price"
   ]
  },
  {
   "cell_type": "code",
   "execution_count": 94,
   "metadata": {},
   "outputs": [
    {
     "data": {
      "text/plain": [
       "Text(0, 0.5, 'Number of mobiles')"
      ]
     },
     "execution_count": 94,
     "metadata": {},
     "output_type": "execute_result"
    },
    {
     "data": {
      "image/png": "[encoded data removed]",
      "text/plain": [
       "<Figure size 720x432 with 1 Axes>"
      ]
     },
     "metadata": {},
     "output_type": "display_data"
    }
   ],
   "source": [
    "plt.figure(figsize=(10, 6))\n",
    "sns.distplot(dataset[dataset['FlipCartRate'] <35000 ]['price_diff_perc'], kde=False, color='red')\n",
    "plt.xlabel('Price Difference (Percentage)')\n",
    "plt.ylabel('Number of mobiles')"
   ]
  },
  {
   "cell_type": "markdown",
   "metadata": {},
   "source": [
    "### Mobile phone greater than 35000 price "
   ]
  },
  {
   "cell_type": "code",
   "execution_count": 83,
   "metadata": {},
   "outputs": [
    {
     "data": {
      "text/plain": [
       "Text(0, 0.5, 'Number of books')"
      ]
     },
     "execution_count": 83,
     "metadata": {},
     "output_type": "execute_result"
    },
    {
     "data": {
      "image/png": "[encoded data removed]",
      "text/plain": [
       "<Figure size 720x432 with 1 Axes>"
      ]
     },
     "metadata": {},
     "output_type": "display_data"
    }
   ],
   "source": [
    "plt.figure(figsize=(10, 6))\n",
    "sns.distplot(dataset[dataset['FlipCartRate'] > 35000]['price_diff_perc'], kde=False, color='blue')\n",
    "plt.xlabel('Price Difference (Percentage)')\n",
    "plt.ylabel('Number of books')"
   ]
  },
  {
   "cell_type": "code",
   "execution_count": null,
   "metadata": {},
   "outputs": [],
   "source": []
  }
 ],
 "metadata": {
  "kernelspec": {
   "display_name": "Python 3",
   "language": "python",
   "name": "python3"
  },
  "language_info": {
   "codemirror_mode": {
    "name": "ipython",
    "version": 3
   },
   "file_extension": ".py",
   "mimetype": "text/x-python",
   "name": "python",
   "nbconvert_exporter": "python",
   "pygments_lexer": "ipython3",
   "version": "3.7.4"
  }
 },
 "nbformat": 4,
 "nbformat_minor": 2
}
